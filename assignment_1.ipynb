{
 "cells": [
  {
   "cell_type": "code",
   "execution_count": 2,
   "metadata": {},
   "outputs": [
    {
     "name": "stdout",
     "output_type": "stream",
     "text": [
      "Collecting scikit-learn (from -r req.txt (line 1))\n",
      "  Downloading scikit_learn-1.6.1-cp311-cp311-macosx_12_0_arm64.whl.metadata (31 kB)\n",
      "Collecting numpy (from -r req.txt (line 2))\n",
      "  Using cached numpy-2.2.2-cp311-cp311-macosx_14_0_arm64.whl.metadata (62 kB)\n",
      "Collecting pandas (from -r req.txt (line 3))\n",
      "  Using cached pandas-2.2.3-cp311-cp311-macosx_11_0_arm64.whl.metadata (89 kB)\n",
      "Collecting matplotlib (from -r req.txt (line 4))\n",
      "  Using cached matplotlib-3.10.0-cp311-cp311-macosx_11_0_arm64.whl.metadata (11 kB)\n",
      "Collecting scipy>=1.6.0 (from scikit-learn->-r req.txt (line 1))\n",
      "  Using cached scipy-1.15.1-cp311-cp311-macosx_14_0_arm64.whl.metadata (61 kB)\n",
      "Collecting joblib>=1.2.0 (from scikit-learn->-r req.txt (line 1))\n",
      "  Downloading joblib-1.4.2-py3-none-any.whl.metadata (5.4 kB)\n",
      "Collecting threadpoolctl>=3.1.0 (from scikit-learn->-r req.txt (line 1))\n",
      "  Downloading threadpoolctl-3.5.0-py3-none-any.whl.metadata (13 kB)\n",
      "Requirement already satisfied: python-dateutil>=2.8.2 in ./.conda/lib/python3.11/site-packages (from pandas->-r req.txt (line 3)) (2.9.0.post0)\n",
      "Collecting pytz>=2020.1 (from pandas->-r req.txt (line 3))\n",
      "  Using cached pytz-2024.2-py2.py3-none-any.whl.metadata (22 kB)\n",
      "Collecting tzdata>=2022.7 (from pandas->-r req.txt (line 3))\n",
      "  Using cached tzdata-2025.1-py2.py3-none-any.whl.metadata (1.4 kB)\n",
      "Collecting contourpy>=1.0.1 (from matplotlib->-r req.txt (line 4))\n",
      "  Using cached contourpy-1.3.1-cp311-cp311-macosx_11_0_arm64.whl.metadata (5.4 kB)\n",
      "Collecting cycler>=0.10 (from matplotlib->-r req.txt (line 4))\n",
      "  Using cached cycler-0.12.1-py3-none-any.whl.metadata (3.8 kB)\n",
      "Collecting fonttools>=4.22.0 (from matplotlib->-r req.txt (line 4))\n",
      "  Downloading fonttools-4.55.7-cp311-cp311-macosx_10_9_universal2.whl.metadata (100 kB)\n",
      "Collecting kiwisolver>=1.3.1 (from matplotlib->-r req.txt (line 4))\n",
      "  Using cached kiwisolver-1.4.8-cp311-cp311-macosx_11_0_arm64.whl.metadata (6.2 kB)\n",
      "Requirement already satisfied: packaging>=20.0 in ./.conda/lib/python3.11/site-packages (from matplotlib->-r req.txt (line 4)) (24.2)\n",
      "Collecting pillow>=8 (from matplotlib->-r req.txt (line 4))\n",
      "  Using cached pillow-11.1.0-cp311-cp311-macosx_11_0_arm64.whl.metadata (9.1 kB)\n",
      "Collecting pyparsing>=2.3.1 (from matplotlib->-r req.txt (line 4))\n",
      "  Using cached pyparsing-3.2.1-py3-none-any.whl.metadata (5.0 kB)\n",
      "Requirement already satisfied: six>=1.5 in ./.conda/lib/python3.11/site-packages (from python-dateutil>=2.8.2->pandas->-r req.txt (line 3)) (1.17.0)\n",
      "Downloading scikit_learn-1.6.1-cp311-cp311-macosx_12_0_arm64.whl (11.1 MB)\n",
      "\u001b[2K   \u001b[90m━━━━━━━━━━━━━━━━━━━━━━━━━━━━━━━━━━━━━━━━\u001b[0m \u001b[32m11.1/11.1 MB\u001b[0m \u001b[31m35.0 MB/s\u001b[0m eta \u001b[36m0:00:00\u001b[0m \u001b[36m0:00:01\u001b[0m\n",
      "\u001b[?25hUsing cached numpy-2.2.2-cp311-cp311-macosx_14_0_arm64.whl (5.4 MB)\n",
      "Using cached pandas-2.2.3-cp311-cp311-macosx_11_0_arm64.whl (11.3 MB)\n",
      "Using cached matplotlib-3.10.0-cp311-cp311-macosx_11_0_arm64.whl (8.0 MB)\n",
      "Using cached contourpy-1.3.1-cp311-cp311-macosx_11_0_arm64.whl (254 kB)\n",
      "Using cached cycler-0.12.1-py3-none-any.whl (8.3 kB)\n",
      "Downloading fonttools-4.55.7-cp311-cp311-macosx_10_9_universal2.whl (2.8 MB)\n",
      "\u001b[2K   \u001b[90m━━━━━━━━━━━━━━━━━━━━━━━━━━━━━━━━━━━━━━━━\u001b[0m \u001b[32m2.8/2.8 MB\u001b[0m \u001b[31m27.4 MB/s\u001b[0m eta \u001b[36m0:00:00\u001b[0m\n",
      "\u001b[?25hDownloading joblib-1.4.2-py3-none-any.whl (301 kB)\n",
      "Using cached kiwisolver-1.4.8-cp311-cp311-macosx_11_0_arm64.whl (65 kB)\n",
      "Using cached pillow-11.1.0-cp311-cp311-macosx_11_0_arm64.whl (3.1 MB)\n",
      "Using cached pyparsing-3.2.1-py3-none-any.whl (107 kB)\n",
      "Using cached pytz-2024.2-py2.py3-none-any.whl (508 kB)\n",
      "Using cached scipy-1.15.1-cp311-cp311-macosx_14_0_arm64.whl (24.8 MB)\n",
      "Downloading threadpoolctl-3.5.0-py3-none-any.whl (18 kB)\n",
      "Using cached tzdata-2025.1-py2.py3-none-any.whl (346 kB)\n",
      "Installing collected packages: pytz, tzdata, threadpoolctl, pyparsing, pillow, numpy, kiwisolver, joblib, fonttools, cycler, scipy, pandas, contourpy, scikit-learn, matplotlib\n",
      "Successfully installed contourpy-1.3.1 cycler-0.12.1 fonttools-4.55.7 joblib-1.4.2 kiwisolver-1.4.8 matplotlib-3.10.0 numpy-2.2.2 pandas-2.2.3 pillow-11.1.0 pyparsing-3.2.1 pytz-2024.2 scikit-learn-1.6.1 scipy-1.15.1 threadpoolctl-3.5.0 tzdata-2025.1\n",
      "Note: you may need to restart the kernel to use updated packages.\n"
     ]
    }
   ],
   "source": [
    "%pip install -r req.txt"
   ]
  },
  {
   "cell_type": "code",
   "execution_count": 6,
   "metadata": {},
   "outputs": [],
   "source": [
    "from sklearn.datasets import load_breast_cancer\n",
    "dataset = load_breast_cancer()"
   ]
  },
  {
   "cell_type": "code",
   "execution_count": null,
   "metadata": {},
   "outputs": [],
   "source": [
    "# Question 1"
   ]
  },
  {
   "cell_type": "code",
   "execution_count": 7,
   "metadata": {},
   "outputs": [],
   "source": [
    "import numpy as np\n",
    "\n",
    "def kmeans_clustering(data, k, max_iters=100):\n",
    "    \"\"\"\n",
    "    Implements K-means clustering algorithm\n",
    "    \n",
    "    Parameters:\n",
    "    data: numpy array of shape (n_samples, n_features)\n",
    "    k: number of clusters\n",
    "    max_iters: maximum number of iterations\n",
    "    \n",
    "    Returns:\n",
    "    centroids: numpy array of shape (k, n_features)\n",
    "    labels: numpy array of shape (n_samples,)\n",
    "    \"\"\"\n",
    "    # Get dimensions of the data\n",
    "    n_samples, n_features = data.shape\n",
    "    \n",
    "    # Initialize centroids randomly by selecting k random data points\n",
    "    random_indices = np.random.choice(n_samples, k, replace=False)\n",
    "    centroids = data[random_indices]\n",
    "    \n",
    "    for _ in range(max_iters):\n",
    "        # Store old centroids to check for convergence\n",
    "        old_centroids = centroids.copy()\n",
    "        \n",
    "        # Calculate distances between each point and all centroids\n",
    "        distances = np.sqrt(((data[:, np.newaxis] - centroids) ** 2).sum(axis=2))\n",
    "        \n",
    "        # Assign each point to nearest centroid\n",
    "        labels = np.argmin(distances, axis=1)\n",
    "        \n",
    "        # Update centroids by taking mean of all points assigned to each cluster\n",
    "        for i in range(k):\n",
    "            cluster_points = data[labels == i]\n",
    "            if len(cluster_points) > 0:\n",
    "                centroids[i] = cluster_points.mean(axis=0)\n",
    "        \n",
    "        # Check for convergence\n",
    "        if np.all(old_centroids == centroids):\n",
    "            break\n",
    "            \n",
    "    return centroids, labels\n",
    "\n",
    "# Test the implementation on breast cancer dataset\n",
    "X = dataset.data\n",
    "k = 2  # Since we know there are 2 classes (malignant/benign)\n",
    "\n",
    "# Normalize the data\n",
    "X_normalized = (X - X.mean(axis=0)) / X.std(axis=0)\n",
    "\n",
    "# Run K-means\n",
    "centroids, labels = kmeans_clustering(X_normalized, k)"
   ]
  },
  {
   "cell_type": "code",
   "execution_count": 10,
   "metadata": {},
   "outputs": [
    {
     "name": "stdout",
     "output_type": "stream",
     "text": [
      "K=2: Inertia=11595.68\n",
      "K=3: Inertia=10065.44\n",
      "K=4: Inertia=9333.18\n",
      "K=5: Inertia=8564.50\n",
      "K=6: Inertia=8288.61\n",
      "K=7: Inertia=7688.19\n"
     ]
    }
   ],
   "source": [
    "# Analyze different K values\n",
    "k_values = range(2, 8)  # K from 2 to 7\n",
    "inertias = []  # Within-cluster sum of squares (WCSS)\n",
    "\n",
    "for k in k_values:\n",
    "    centroids, labels = kmeans_clustering(X_normalized, k)\n",
    "    \n",
    "    # Calculate inertia (WCSS) for this K\n",
    "    distances = np.sqrt(((X_normalized[:, np.newaxis] - centroids) ** 2).sum(axis=2))\n",
    "    min_distances = np.min(distances, axis=1)\n",
    "    inertia = np.sum(min_distances ** 2)\n",
    "    inertias.append(inertia)\n",
    "\n",
    "# Print the inertia values\n",
    "for k, inertia in zip(k_values, inertias):\n",
    "    print(f\"K={k}: Inertia={inertia:.2f}\")"
   ]
  },
  {
   "cell_type": "code",
   "execution_count": null,
   "metadata": {},
   "outputs": [],
   "source": [
    "# Justification for using normalized data (X_normalized):\n",
    "# 1. The breast cancer dataset features have different scales and units\n",
    "# 2. Features with larger scales would dominate the distance calculations in K-means\n",
    "# 3. Normalization (standardization) ensures:\n",
    "#       a. All features contribute equally to distance calculations\n",
    "#       b. Features are centered around 0 with standard deviation of 1\n",
    "#       c. More reliable and interpretable clustering results"
   ]
  },
  {
   "cell_type": "code",
   "execution_count": 12,
   "metadata": {},
   "outputs": [
    {
     "data": {
      "image/png": "[encoded data removed]",
      "text/plain": [
       "<Figure size 1000x600 with 1 Axes>"
      ]
     },
     "metadata": {},
     "output_type": "display_data"
    }
   ],
   "source": [
    "import matplotlib.pyplot as plt\n",
    "\n",
    "# Plot the distortion (inertia) curve\n",
    "plt.figure(figsize=(10, 6))\n",
    "plt.plot(k_values, inertias, 'bo-', linewidth=2, markersize=8)\n",
    "plt.xlabel('Number of Clusters (K)', fontsize=12)\n",
    "plt.ylabel('Distortion (WCSS)', fontsize=12)\n",
    "plt.title('Distortion Score vs Number of Clusters', fontsize=14)\n",
    "plt.grid(True, linestyle='--', alpha=0.7)\n",
    "plt.xticks(k_values)  # Force x-axis to show all K values\n",
    "plt.tight_layout()\n",
    "plt.show()"
   ]
  },
  {
   "cell_type": "code",
   "execution_count": null,
   "metadata": {},
   "outputs": [],
   "source": [
    "# K = 3\n",
    "# 1. from the elbow curve, the rate of decrease becomes notably more gradual after K=3. Thus, it suggests that adding more clusters beyond this point gives diminishing returns.\n",
    "# 2. more clusters means more noise and more likely to overfit. And the dataset itself has 2 actual classes, so 2 + 1 more cluster to capture any subgroups is enough."
   ]
  },
  {
   "cell_type": "code",
   "execution_count": null,
   "metadata": {},
   "outputs": [],
   "source": [
    "# Question 2"
   ]
  },
  {
   "cell_type": "code",
   "execution_count": 15,
   "metadata": {},
   "outputs": [
    {
     "name": "stdout",
     "output_type": "stream",
     "text": [
      "Initial centroids: [2 4]\n",
      "\n",
      "Iteration 1:\n",
      "Point assignments: [0 0 0 1]\n",
      "Updated centroids: [2. 4.]\n",
      "Current risk: 0.5\n",
      "\n",
      "Converged!\n",
      "\n",
      "Final solution:\n",
      "Final centroids: [2. 4.]\n",
      "Final assignments: [0 0 0 1]\n",
      "Final risk: 0.5\n",
      "\n",
      "Optimal solution:\n",
      "Optimal centroids: [1.5 3.5]\n",
      "Optimal assignments: [0 0 1 1]\n",
      "Optimal risk: 0.25\n",
      "\n",
      "Comparison:\n",
      "The converged solution has 2.00x higher risk than the optimal solution\n"
     ]
    }
   ],
   "source": [
    "import numpy as np\n",
    "\n",
    "# Define the dataset\n",
    "X = np.array([1, 2, 3, 4])\n",
    "N = len(X)\n",
    "K = 2\n",
    "\n",
    "def calculate_risk(X, labels, centroids):\n",
    "    \"\"\"Calculate the risk (objective function) J\"\"\"\n",
    "    risk = 0\n",
    "    for n in range(len(X)):\n",
    "        risk += (X[n] - centroids[labels[n]]) ** 2\n",
    "    return risk / len(X)\n",
    "\n",
    "def kmeans_step(X, centroids):\n",
    "    \"\"\"Perform one step of K-means (assignment and update)\"\"\"\n",
    "    # Assignment step\n",
    "    labels = np.zeros(len(X), dtype=int)\n",
    "    for n in range(len(X)):\n",
    "        # Calculate distances to both centroids\n",
    "        distances = [abs(X[n] - centroid) for centroid in centroids]\n",
    "        # Assign to nearest centroid (if equal, assign to smaller index as per rule)\n",
    "        labels[n] = np.argmin(distances)\n",
    "    \n",
    "    # Update step\n",
    "    new_centroids = np.zeros(K)\n",
    "    for k in range(K):\n",
    "        if np.sum(labels == k) > 0:  # If cluster is not empty\n",
    "            new_centroids[k] = np.mean(X[labels == k])\n",
    "        else:\n",
    "            new_centroids[k] = centroids[k]\n",
    "    \n",
    "    return labels, new_centroids\n",
    "\n",
    "# Initialize with given centroids\n",
    "centroids = np.array([2, 4])\n",
    "print(\"Initial centroids:\", centroids)\n",
    "\n",
    "# Run K-means until convergence\n",
    "iteration = 1\n",
    "while True:\n",
    "    print(f\"\\nIteration {iteration}:\")\n",
    "    \n",
    "    # Store old centroids to check convergence\n",
    "    old_centroids = centroids.copy()\n",
    "    \n",
    "    # Perform K-means step\n",
    "    labels, centroids = kmeans_step(X, centroids)\n",
    "    \n",
    "    # Print current state\n",
    "    print(\"Point assignments:\", labels)\n",
    "    print(\"Updated centroids:\", centroids)\n",
    "    print(\"Current risk:\", calculate_risk(X, labels, centroids))\n",
    "    \n",
    "    # Check for convergence\n",
    "    if np.all(old_centroids == centroids):\n",
    "        print(\"\\nConverged!\")\n",
    "        break\n",
    "    \n",
    "    iteration += 1\n",
    "\n",
    "print(\"\\nFinal solution:\")\n",
    "print(\"Final centroids:\", centroids)\n",
    "print(\"Final assignments:\", labels)\n",
    "print(\"Final risk:\", calculate_risk(X, labels, centroids))\n",
    "\n",
    "# Calculate optimal solution\n",
    "print(\"\\nOptimal solution:\")\n",
    "optimal_centroids = np.array([1.5, 3.5])\n",
    "optimal_labels = np.array([0, 0, 1, 1])\n",
    "optimal_risk = calculate_risk(X, optimal_labels, optimal_centroids)\n",
    "print(\"Optimal centroids:\", optimal_centroids)\n",
    "print(\"Optimal assignments:\", optimal_labels)\n",
    "print(\"Optimal risk:\", optimal_risk)\n",
    "\n",
    "print(\"\\nComparison:\")\n",
    "if calculate_risk(X, labels, centroids) > optimal_risk:\n",
    "    print(f\"The converged solution has {calculate_risk(X, labels, centroids)/optimal_risk:.2f}x \" \n",
    "      f\"higher risk than the optimal solution\")\n",
    "else:\n",
    "    print(f\"The converged solution has {optimal_risk/calculate_risk(X, labels, centroids):.2f}x \" \n",
    "      f\"lower risk than the optimal solution\")"
   ]
  },
  {
   "cell_type": "code",
   "execution_count": null,
   "metadata": {},
   "outputs": [],
   "source": [
    "# Question 3"
   ]
  },
  {
   "cell_type": "code",
   "execution_count": 16,
   "metadata": {},
   "outputs": [
    {
     "name": "stdout",
     "output_type": "stream",
     "text": [
      "Maximum Likelihood Estimates:\n",
      "μ (mean) = 1.3660\n",
      "σ² (variance) = 3.7197\n"
     ]
    }
   ],
   "source": [
    "import numpy as np\n",
    "\n",
    "# Given data points\n",
    "X = np.array([1.76, 3.60, -2.20, 2.22, 1.45])\n",
    "\n",
    "# MLE for mean (μ) is the sample mean\n",
    "mu_mle = np.mean(X)\n",
    "\n",
    "# MLE for variance (σ²) is the sample variance with n divisor (not n-1)\n",
    "sigma2_mle = np.sum((X - mu_mle)**2) / len(X)\n",
    "\n",
    "print(f\"Maximum Likelihood Estimates:\")\n",
    "print(f\"μ (mean) = {mu_mle:.4f}\")\n",
    "print(f\"σ² (variance) = {sigma2_mle:.4f}\")"
   ]
  },
  {
   "cell_type": "code",
   "execution_count": null,
   "metadata": {},
   "outputs": [],
   "source": [
    "# Question 4"
   ]
  },
  {
   "cell_type": "code",
   "execution_count": 21,
   "metadata": {},
   "outputs": [
    {
     "name": "stdout",
     "output_type": "stream",
     "text": [
      "Eigenvalues: [ 6. -2.  1.]\n",
      "\n",
      "Characteristic polynomial: -λ³ + 5λ² + 8λ - 12\n",
      "                         = -(λ - 1)(λ + 2)(λ - 6)\n",
      "\n",
      "Eigenvalues are:\n",
      "λ₁ = 1\n",
      "λ₂ = -2\n",
      "λ₃ = 6\n"
     ]
    }
   ],
   "source": [
    "import numpy as np\n",
    "\n",
    "# Define matrix A\n",
    "A = np.array([\n",
    "    [2, -1, 4],\n",
    "    [1, 1, 1],\n",
    "    [4, 1, 2]\n",
    "])\n",
    "\n",
    "eigenvalues = np.linalg.eigvals(A)\n",
    "print(f\"Eigenvalues: {eigenvalues}\")\n",
    "\n",
    "# Let's expand det(A - λI):\n",
    "# |2-λ  -1    4  |\n",
    "# |1     1-λ  1  |\n",
    "# |4     1    2-λ|\n",
    "\n",
    "# Using cofactor expansion along first row:\n",
    "# (2-λ)[(1-λ)(2-λ) - 1] - (-1)[1(2-λ) - 4·1] + 4[1·1 - (1-λ)·4]\n",
    "\n",
    "# Let's break it down:\n",
    "# Term 1: (2-λ)[(1-λ)(2-λ) - 1]\n",
    "#       = (2-λ)[2-3λ+λ² - 1]\n",
    "#       = (2-λ)(λ² - 3λ + 1)\n",
    "#       = 2λ² - 6λ + 2 - λ³ + 3λ² - λ\n",
    "#       = -λ³ + 5λ² - 7λ + 2\n",
    "\n",
    "# Term 2: -(-1)[1(2-λ) - 4]\n",
    "#       = 2-λ - 4\n",
    "#       = -λ - 2\n",
    "\n",
    "# Term 3: 4[1 - (1-λ)·4]\n",
    "#       = 4[1 - 4 + 4λ]\n",
    "#       = 4[-3 + 4λ]\n",
    "#       = -12 + 16λ\n",
    "\n",
    "# Combining all terms:\n",
    "# (-λ³ + 5λ² - 7λ + 2) + (-λ - 2) + (-12 + 16λ)\n",
    "# = -λ³ + 5λ² + 8λ - 12\n",
    "\n",
    "# This polynomial should have roots at λ = 1, -2, and 6\n",
    "# Therefore: -λ³ + 5λ² + 8λ - 12 = -(λ - 1)(λ + 2)(λ - 6)\n",
    "\n",
    "print(\"\\nCharacteristic polynomial: -λ³ + 5λ² + 8λ - 12\")\n",
    "print(\"                         = -(λ - 1)(λ + 2)(λ - 6)\")\n",
    "print(\"\\nEigenvalues are:\")\n",
    "print(\"λ₁ = 1\")\n",
    "print(\"λ₂ = -2\")\n",
    "print(\"λ₃ = 6\")"
   ]
  }
 ],
 "metadata": {
  "kernelspec": {
   "display_name": "Python 3",
   "language": "python",
   "name": "python3"
  },
  "language_info": {
   "codemirror_mode": {
    "name": "ipython",
    "version": 3
   },
   "file_extension": ".py",
   "mimetype": "text/x-python",
   "name": "python",
   "nbconvert_exporter": "python",
   "pygments_lexer": "ipython3",
   "version": "3.11.11"
  }
 },
 "nbformat": 4,
 "nbformat_minor": 2
}
