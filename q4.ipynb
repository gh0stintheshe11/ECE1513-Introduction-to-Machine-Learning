{
 "cells": [
  {
   "cell_type": "code",
   "execution_count": null,
   "metadata": {},
   "outputs": [],
   "source": [
    "# Question 4\n",
    "\n",
    "\"\"\"\n",
    "Expand det(A - λI):\n",
    "|2-λ  -1    4  |\n",
    "|1     1-λ  1  |\n",
    "|4     1    2-λ|\n",
    "\n",
    "Using cofactor expansion along first row:\n",
    "(2-λ)[(1-λ)(2-λ) - 1] - (-1)[1(2-λ) - 4·1] + 4[1·1 - (1-λ)·4]\n",
    "\n",
    "Term 1: (2-λ)[(1-λ)(2-λ) - 1]\n",
    "       = (2-λ)[2-3λ+λ² - 1]\n",
    "       = (2-λ)(λ² - 3λ + 1)\n",
    "       = 2λ² - 6λ + 2 - λ³ + 3λ² - λ\n",
    "       = -λ³ + 5λ² - 7λ + 2\n",
    "\n",
    "Term 2: -(-1)[1(2-λ) - 4]\n",
    "       = 2-λ - 4\n",
    "       = -λ - 2\n",
    "\n",
    "Term 3: 4[1 - (1-λ)·4]\n",
    "       = 4[1 - 4 + 4λ]\n",
    "       = 4[-3 + 4λ]\n",
    "       = -12 + 16λ\n",
    "\n",
    "Combining all terms:\n",
    "(-λ³ + 5λ² - 7λ + 2) + (-λ - 2) + (-12 + 16λ)\n",
    "= -λ³ + 5λ² + 8λ - 12\n",
    "\n",
    "This polynomial has roots at λ = 1, -2, and 6\n",
    "Thus, -λ³ + 5λ² + 8λ - 12 = -(λ - 1)(λ + 2)(λ - 6)\n",
    "\"\"\""
   ]
  },
  {
   "cell_type": "code",
   "execution_count": 3,
   "metadata": {},
   "outputs": [
    {
     "name": "stdout",
     "output_type": "stream",
     "text": [
      "Eigenvalues: [ 6. -2.  1.]\n"
     ]
    }
   ],
   "source": [
    "import numpy as np\n",
    "\n",
    "# Define matrix A\n",
    "A = np.array([\n",
    "    [2, -1, 4],\n",
    "    [1, 1, 1],\n",
    "    [4, 1, 2]\n",
    "])\n",
    "\n",
    "eigenvalues = np.linalg.eigvals(A)\n",
    "print(f\"Eigenvalues: {eigenvalues}\")"
   ]
  }
 ],
 "metadata": {
  "kernelspec": {
   "display_name": "Python 3",
   "language": "python",
   "name": "python3"
  },
  "language_info": {
   "codemirror_mode": {
    "name": "ipython",
    "version": 3
   },
   "file_extension": ".py",
   "mimetype": "text/x-python",
   "name": "python",
   "nbconvert_exporter": "python",
   "pygments_lexer": "ipython3",
   "version": "3.11.8"
  }
 },
 "nbformat": 4,
 "nbformat_minor": 2
}
