{
 "cells": [
  {
   "cell_type": "markdown",
   "metadata": {},
   "source": [
    "### Q2.1\n",
    "\n",
    "```\n",
    "f(x) = wx + b\n",
    "f(x) = wᵀx\n",
    "```\n",
    "where x = [1, x]ᵀ, Therefore:\n",
    "```\n",
    "f(x) = [b w][1] = b·1 + w·x = wx + b\n",
    "          [x]\n",
    "```\n",
    "Thus, \n",
    "```\n",
    "w = [b w]ᵀ\n",
    "```"
   ]
  },
  {
   "cell_type": "markdown",
   "metadata": {},
   "source": [
    "### Q2.2\n",
    "\n",
    "Expand the squared norm:\n",
    "```\n",
    "‖Xᵀw - v‖² = (Xᵀw - v)ᵀ(Xᵀw - v)\n",
    "           = wᵀXXᵀw - vᵀXᵀw - wᵀXv + vᵀv\n",
    "           = wᵀXXᵀw - 2wᵀXv + vᵀv  \n",
    "```\n",
    "```\n",
    "vᵀXᵀw = wᵀXv\n",
    "```\n",
    "Therefore,\n",
    "```\n",
    "R̂ = (1/7)‖Xᵀw - v‖² = (1/7)(wᵀXXᵀw - 2wᵀXv + vᵀv)\n",
    "```\n",
    "\n",
    "Take gradient with respect to w,\n",
    "```\n",
    "∇w(wᵀXXᵀw) = 2XXᵀw\n",
    " ∇w(2wᵀXv) = 2Xv\n",
    "   ∇w(vᵀv) = 0\n",
    "```\n",
    "\n",
    "Thus,\n",
    "```\n",
    "∇ŵR = (1/7)(2XXᵀw - 2Xv)\n",
    "    = (2/7)(XXᵀw - Xv)\n",
    "```\n",
    "\n",
    "Same result in lecture 4."
   ]
  },
  {
   "cell_type": "markdown",
   "metadata": {},
   "source": [
    "### Q2.3\n",
    "\n",
    "gradient = zero:\n",
    "```\n",
    "(2/7)(XXᵀw - Xv) = 0\n",
    "XXᵀw = Xv\n",
    "w* = (XXᵀ)⁻¹Xv\n",
    "```"
   ]
  },
  {
   "cell_type": "code",
   "execution_count": 4,
   "metadata": {},
   "outputs": [
    {
     "name": "stdout",
     "output_type": "stream",
     "text": [
      "Solution using matrix approach:\n",
      "b = 2.142857\n",
      "w = 0.607143\n",
      "\n",
      "Solution from Question 1:\n",
      "b = -2.142857\n",
      "w = -0.607143\n"
     ]
    }
   ],
   "source": [
    "import numpy as np\n",
    "\n",
    "# Dataset\n",
    "points = [(1, 6), (2, 4), (3, 2), (4, 1), (5, 3), (6, 6), (7, 10)]\n",
    "x_data = np.array([p[0] for p in points])\n",
    "v = np.array([p[1] for p in points])\n",
    "\n",
    "# Construct X matrix\n",
    "ones = np.ones_like(x_data)\n",
    "X = np.vstack([ones, x_data])  # 2x7 matrix\n",
    "\n",
    "# Calculate X * X^T using matmul\n",
    "X_transpose = np.transpose(X)\n",
    "XX_T = np.matmul(X, X_transpose)  # or np.dot(X, X_transpose)\n",
    "\n",
    "# Calculate X * v using dot\n",
    "X_v = np.dot(X, v)\n",
    "\n",
    "# Calculate inverse of XX_T\n",
    "XX_T_inv = np.linalg.inv(XX_T)\n",
    "\n",
    "# Calculate final result\n",
    "w_star = np.dot(XX_T_inv, X_v)\n",
    "\n",
    "print(\"Solution using matrix approach:\")\n",
    "print(f\"b = {w_star[0]:.6f}\")\n",
    "print(f\"w = {w_star[1]:.6f}\")\n",
    "\n",
    "# Compare with Question 1 solution\n",
    "print(\"\\nSolution from Question 1:\")\n",
    "print(f\"b = {-420/196:.6f}\")\n",
    "print(f\"w = {-119/196:.6f}\")"
   ]
  }
 ],
 "metadata": {
  "kernelspec": {
   "display_name": "Python 3",
   "language": "python",
   "name": "python3"
  },
  "language_info": {
   "codemirror_mode": {
    "name": "ipython",
    "version": 3
   },
   "file_extension": ".py",
   "mimetype": "text/x-python",
   "name": "python",
   "nbconvert_exporter": "python",
   "pygments_lexer": "ipython3",
   "version": "3.11.11"
  }
 },
 "nbformat": 4,
 "nbformat_minor": 2
}
