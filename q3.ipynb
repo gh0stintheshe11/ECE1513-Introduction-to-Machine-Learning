{
 "cells": [
  {
   "cell_type": "markdown",
   "metadata": {},
   "source": [
    "### Q3.1:\n",
    "\n",
    "```\n",
    "R̄(w) = (1/2N)Σ(f(xi) - vi)² + (λ/2)‖w‖²\n",
    "     = (1/2N)‖Xᵀw - v‖² + (λ/2)‖w‖²\n",
    "```\n",
    "\n",
    "Use the given gradient derivation:\n",
    "```\n",
    "∇w‖Xᵀw - v‖² = 2(XXᵀw - Xv)\n",
    "∇w‖w‖² = 2w\n",
    "```\n",
    "\n",
    "Thus,\n",
    "```\n",
    "∇wR̄ = (1/2N)·2(XXᵀw - Xv) + (λ/2)·2w\n",
    "     = (1/N)(XXᵀw - Xv) + λw\n",
    "     = (1/N)XXᵀw - (1/N)Xv + λw\n",
    "```"
   ]
  },
  {
   "cell_type": "markdown",
   "metadata": {},
   "source": [
    "### Q3.2\n",
    "\n",
    "Optimal w* -> ∇wR̄ = 0:\n",
    "```\n",
    "(1/N)XXᵀw - (1/N)Xv + λw = 0\n",
    "(XXᵀ/N + λI)w = Xv/N\n",
    "```\n",
    "```\n",
    "I: identity matrix.\n",
    "```"
   ]
  },
  {
   "cell_type": "markdown",
   "metadata": {},
   "source": [
    "### Q3.3\n",
    "\n",
    "```\n",
    "(XXᵀ/N + λI)⁻¹(XXᵀ/N + λI)w = (XXᵀ/N + λI)⁻¹(Xv/N)\n",
    "w* = (XXᵀ/N + λI)⁻¹(Xv/N)\n",
    "```"
   ]
  },
  {
   "cell_type": "markdown",
   "metadata": {},
   "source": [
    "Comparing with course solution:\n",
    "- Without penalty (λ = 0) -> the standard solution w* = (XXᵀ)⁻¹Xv\n",
    "- With penalty (λ > 0) -> solution includes a regularization term λI\n",
    "\n",
    "Benefits of this penalty:\n",
    "1. Acts as a form of regularization, prevents overfitting\n",
    "2. Improves numerical stability"
   ]
  }
 ],
 "metadata": {
  "language_info": {
   "name": "python"
  }
 },
 "nbformat": 4,
 "nbformat_minor": 2
}
