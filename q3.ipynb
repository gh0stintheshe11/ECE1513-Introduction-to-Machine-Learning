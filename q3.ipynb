{
 "cells": [
  {
   "cell_type": "code",
   "execution_count": null,
   "metadata": {},
   "outputs": [],
   "source": [
    "# Question 3\n",
    "\n",
    "\"\"\"\n",
    "Maximum Likelihood Estimation for Gaussian Distribution N(μ, σ²)\n",
    "\n",
    "Data: x₁ = 1.76, x₂ = 3.60, x₃ = -2.20, x₄ = 2.22, x₅ = 1.45\n",
    "n = 5\n",
    "\n",
    "μ_MLE = (1.76 + 3.60 + (-2.20) + 2.22 + 1.45)/5\n",
    "    = 6.83/5\n",
    "    = 1.366\n",
    "\n",
    "For σ²_MLE:\n",
    "Σ(xᵢ-μ_MLE)² = (1.76-1.366)² + (3.60-1.366)² + (-2.20-1.366)² \n",
    "                + (2.22-1.366)² + (1.45-1.366)²\n",
    "                = 0.155² + 2.234² + (-3.566)² + 0.854² + 0.084²\n",
    "                = 18.5985\n",
    "\n",
    "σ²_MLE = 18.5985/5 = 3.7197\n",
    "\"\"\""
   ]
  },
  {
   "cell_type": "code",
   "execution_count": 5,
   "metadata": {},
   "outputs": [
    {
     "name": "stdout",
     "output_type": "stream",
     "text": [
      "μ (mean) = 1.3660\n",
      "σ² (variance) = 3.7197\n"
     ]
    }
   ],
   "source": [
    "import numpy as np\n",
    "\n",
    "# Given data points\n",
    "X = np.array([1.76, 3.60, -2.20, 2.22, 1.45])\n",
    "\n",
    "# MLE for mean (μ) is the sample mean\n",
    "mu_mle = np.mean(X)\n",
    "\n",
    "# MLE for variance (σ²) is the sample variance with n divisor (not n-1)\n",
    "sigma2_mle = np.sum((X - mu_mle)**2) / len(X)\n",
    "\n",
    "print(f\"μ (mean) = {mu_mle:.4f}\")\n",
    "print(f\"σ² (variance) = {sigma2_mle:.4f}\")"
   ]
  }
 ],
 "metadata": {
  "kernelspec": {
   "display_name": "Python 3",
   "language": "python",
   "name": "python3"
  },
  "language_info": {
   "codemirror_mode": {
    "name": "ipython",
    "version": 3
   },
   "file_extension": ".py",
   "mimetype": "text/x-python",
   "name": "python",
   "nbconvert_exporter": "python",
   "pygments_lexer": "ipython3",
   "version": "3.11.8"
  }
 },
 "nbformat": 4,
 "nbformat_minor": 2
}
